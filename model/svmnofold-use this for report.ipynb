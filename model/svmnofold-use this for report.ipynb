{
 "cells": [
  {
   "cell_type": "code",
   "execution_count": 1,
   "id": "86ea8b71",
   "metadata": {},
   "outputs": [],
   "source": [
    "import tensorflow as tf \n",
    "import pandas as pd\n",
    "from keras.utils import to_categorical\n",
    "import random \n",
    "import numpy as py \n",
    "import os\n",
    "import matplotlib.pyplot as plt\n",
    "import scipy\n",
    "from sklearn.metrics import accuracy_score, f1_score, precision_score, confusion_matrix\n",
    "import seaborn as sns\n",
    "\n",
    "from sklearn.model_selection import train_test_split\n",
    "from tensorflow.keras.layers import Input, Lambda, Dense, Flatten, Conv2D, MaxPooling2D, Dropout, Activation, BatchNormalization\n",
    "from tensorflow.keras.models import Model\n",
    "from tensorflow.keras.applications.inception_v3 import InceptionV3\n",
    "from keras.applications.vgg16 import VGG16\n",
    "from tensorflow.keras.applications.inception_v3 import preprocess_input\n",
    "from tensorflow.keras.preprocessing import image\n",
    "from tensorflow.keras.preprocessing.image import ImageDataGenerator,load_img, array_to_img, img_to_array\n",
    "from tensorflow.keras.models import Sequential \n",
    "from glob import glob\n",
    "from tensorflow.keras.preprocessing.image import ImageDataGenerator\n",
    "import numpy as np\n",
    "\n",
    "#SVM\n",
    "from tensorflow.keras.applications.inception_v3 import InceptionV3\n",
    "from tensorflow.keras.applications.vgg19 import VGG19\n",
    "from tensorflow.keras.optimizers import Adam\n",
    "from tensorflow.keras.models import Model\n",
    "from tensorflow.keras.regularizers import l2"
   ]
  },
  {
   "cell_type": "code",
   "execution_count": 2,
   "id": "d3394be4",
   "metadata": {},
   "outputs": [],
   "source": [
    "MODEL_FILENAME=\"model_svmnofold.h5\""
   ]
  },
  {
   "cell_type": "code",
   "execution_count": 3,
   "id": "ef85cbe5",
   "metadata": {},
   "outputs": [],
   "source": [
    "def my_metrics(y_true, y_pred):\n",
    "    accuracy=accuracy_score(y_true, y_pred)\n",
    "    precision=precision_score(y_true, y_pred,average='weighted')\n",
    "    f1Score=f1_score(y_true, y_pred, average='weighted') \n",
    "    print(\"Accuracy  : {}\".format(accuracy))\n",
    "    print(\"Precision : {}\".format(precision))\n",
    "    print(\"f1Score : {}\".format(f1Score))\n",
    "    cm=confusion_matrix(y_true, y_pred)\n",
    "    print(cm)\n",
    "#     from sklearn.metrics import plot_confusion_matrix\n",
    "#     plot_confusion_matrix(cm, normalize=False,cmap=plt.cm.Blues)\n",
    "    # Classification Report\n",
    "    from sklearn.metrics import classification_report\n",
    "    print(classification_report(y_true, y_pred))\n",
    "    return accuracy, precision, f1Score"
   ]
  },
  {
   "cell_type": "code",
   "execution_count": 4,
   "id": "097e235b",
   "metadata": {},
   "outputs": [],
   "source": [
    "#importing dataset\n",
    "# Define Constants by re-sizing all the images\n",
    "img_rows, img_cols =  224, 224   #input image dimensions\n",
    "\n",
    "train_path = 'C:/Users/Hannah/Documents/FYP/testsplit/augmentation/train(aug)'\n",
    "validation_path = 'C:/Users/Hannah/Documents/FYP/testsplit/augmentation/validation(aug)'\n",
    "test_path = 'C:/Users/Hannah/Documents/FYP/testsplit/test'"
   ]
  },
  {
   "cell_type": "code",
   "execution_count": 5,
   "id": "e2f8ece1",
   "metadata": {},
   "outputs": [
    {
     "name": "stdout",
     "output_type": "stream",
     "text": [
      "Model: \"model\"\n",
      "_________________________________________________________________\n",
      "Layer (type)                 Output Shape              Param #   \n",
      "=================================================================\n",
      "input_1 (InputLayer)         [(None, 224, 224, 3)]     0         \n",
      "_________________________________________________________________\n",
      "block1_conv1 (Conv2D)        (None, 224, 224, 64)      1792      \n",
      "_________________________________________________________________\n",
      "block1_conv2 (Conv2D)        (None, 224, 224, 64)      36928     \n",
      "_________________________________________________________________\n",
      "block1_pool (MaxPooling2D)   (None, 112, 112, 64)      0         \n",
      "_________________________________________________________________\n",
      "block2_conv1 (Conv2D)        (None, 112, 112, 128)     73856     \n",
      "_________________________________________________________________\n",
      "block2_conv2 (Conv2D)        (None, 112, 112, 128)     147584    \n",
      "_________________________________________________________________\n",
      "block2_pool (MaxPooling2D)   (None, 56, 56, 128)       0         \n",
      "_________________________________________________________________\n",
      "block3_conv1 (Conv2D)        (None, 56, 56, 256)       295168    \n",
      "_________________________________________________________________\n",
      "block3_conv2 (Conv2D)        (None, 56, 56, 256)       590080    \n",
      "_________________________________________________________________\n",
      "block3_conv3 (Conv2D)        (None, 56, 56, 256)       590080    \n",
      "_________________________________________________________________\n",
      "block3_pool (MaxPooling2D)   (None, 28, 28, 256)       0         \n",
      "_________________________________________________________________\n",
      "block4_conv1 (Conv2D)        (None, 28, 28, 512)       1180160   \n",
      "_________________________________________________________________\n",
      "block4_conv2 (Conv2D)        (None, 28, 28, 512)       2359808   \n",
      "_________________________________________________________________\n",
      "block4_conv3 (Conv2D)        (None, 28, 28, 512)       2359808   \n",
      "_________________________________________________________________\n",
      "block4_pool (MaxPooling2D)   (None, 14, 14, 512)       0         \n",
      "_________________________________________________________________\n",
      "block5_conv1 (Conv2D)        (None, 14, 14, 512)       2359808   \n",
      "_________________________________________________________________\n",
      "block5_conv2 (Conv2D)        (None, 14, 14, 512)       2359808   \n",
      "_________________________________________________________________\n",
      "block5_conv3 (Conv2D)        (None, 14, 14, 512)       2359808   \n",
      "_________________________________________________________________\n",
      "block5_pool (MaxPooling2D)   (None, 7, 7, 512)         0         \n",
      "_________________________________________________________________\n",
      "flatten (Flatten)            (None, 25088)             0         \n",
      "_________________________________________________________________\n",
      "dense (Dense)                (None, 32)                802848    \n",
      "_________________________________________________________________\n",
      "dense_1 (Dense)              (None, 32)                1056      \n",
      "_________________________________________________________________\n",
      "batch_normalization (BatchNo (None, 32)                128       \n",
      "_________________________________________________________________\n",
      "dense_2 (Dense)              (None, 10)                330       \n",
      "=================================================================\n",
      "Total params: 15,519,050\n",
      "Trainable params: 804,298\n",
      "Non-trainable params: 14,714,752\n",
      "_________________________________________________________________\n"
     ]
    }
   ],
   "source": [
    "base_model=VGG16(input_shape=(img_rows, img_cols,3), weights='imagenet', include_top=False)\n",
    "    \n",
    "for layer in base_model.layers:\n",
    "    layer.trainable = False\n",
    "    \n",
    "x =Flatten()(base_model.output)\n",
    "x =Dense(32, activation='relu')(x)\n",
    "x =Dense(32, activation='relu')(x)\n",
    "# x =Dropout(0.25)(x)\n",
    "x =BatchNormalization()(x)\n",
    "x =Dense(10,kernel_regularizer = l2(0.01),activation= 'softmax')(x)\n",
    "    \n",
    "model=Model(inputs=base_model.input, outputs=x)\n",
    "    \n",
    "optimizer='Adam'\n",
    "loss='squared_hinge'\n",
    "    \n",
    "model.compile(optimizer=optimizer,\n",
    "                loss=loss,\n",
    "                metrics=[\"accuracy\"])\n",
    "\n",
    "model.summary()"
   ]
  },
  {
   "cell_type": "code",
   "execution_count": 6,
   "id": "a5255923",
   "metadata": {},
   "outputs": [],
   "source": [
    "# learning rate\n",
    "batch_size = 16\n",
    "epoch=55\n",
    "train_datagen = ImageDataGenerator(\n",
    "                      rescale=1./255,\n",
    "                      zoom_range=0.20,\n",
    "                      shear_range = 0.2,\n",
    "                      horizontal_flip = True)\n",
    "\n",
    "validation_datagen = ImageDataGenerator(rescale=1./255)\n",
    "    \n",
    "test_datagen = ImageDataGenerator(rescale=1./255)"
   ]
  },
  {
   "cell_type": "code",
   "execution_count": 7,
   "id": "5666890d",
   "metadata": {},
   "outputs": [
    {
     "name": "stdout",
     "output_type": "stream",
     "text": [
      "Found 29030 images belonging to 10 classes.\n",
      "Found 8705 images belonging to 10 classes.\n",
      "Epoch 1/55\n",
      "1815/1815 [==============================] - 305s 162ms/step - loss: 1.0577 - accuracy: 0.7073 - val_loss: 1.0104 - val_accuracy: 0.7937\n",
      "Epoch 2/55\n",
      "1815/1815 [==============================] - 233s 128ms/step - loss: 1.0031 - accuracy: 0.8108 - val_loss: 0.9988 - val_accuracy: 0.7945\n",
      "Epoch 3/55\n",
      "1815/1815 [==============================] - 235s 129ms/step - loss: 0.9881 - accuracy: 0.8293 - val_loss: 1.0136 - val_accuracy: 0.7410\n",
      "Epoch 4/55\n",
      "1815/1815 [==============================] - 236s 130ms/step - loss: 0.9784 - accuracy: 0.8412 - val_loss: 0.9855 - val_accuracy: 0.8107\n",
      "Epoch 5/55\n",
      "1815/1815 [==============================] - 240s 132ms/step - loss: 0.9718 - accuracy: 0.8497 - val_loss: 0.9898 - val_accuracy: 0.7921\n",
      "Epoch 6/55\n",
      "1815/1815 [==============================] - 239s 132ms/step - loss: 0.9680 - accuracy: 0.8546 - val_loss: 0.9870 - val_accuracy: 0.7943\n",
      "Epoch 7/55\n",
      "1815/1815 [==============================] - 236s 130ms/step - loss: 0.9643 - accuracy: 0.8615 - val_loss: 0.9799 - val_accuracy: 0.8141\n",
      "Epoch 8/55\n",
      "1815/1815 [==============================] - 236s 130ms/step - loss: 0.9568 - accuracy: 0.8863 - val_loss: 0.9690 - val_accuracy: 0.8437\n",
      "Epoch 9/55\n",
      "1815/1815 [==============================] - 237s 131ms/step - loss: 0.9563 - accuracy: 0.8876 - val_loss: 0.9711 - val_accuracy: 0.8400\n",
      "Epoch 10/55\n",
      "1815/1815 [==============================] - 233s 128ms/step - loss: 0.9566 - accuracy: 0.8874 - val_loss: 0.9779 - val_accuracy: 0.8155\n",
      "Epoch 11/55\n",
      "1815/1815 [==============================] - 233s 129ms/step - loss: 0.9533 - accuracy: 0.8931 - val_loss: 0.9810 - val_accuracy: 0.8083\n",
      "Epoch 12/55\n",
      "1815/1815 [==============================] - 235s 129ms/step - loss: 0.9500 - accuracy: 0.8991 - val_loss: 0.9657 - val_accuracy: 0.8501\n",
      "Epoch 13/55\n",
      "1815/1815 [==============================] - 237s 131ms/step - loss: 0.9478 - accuracy: 0.9026 - val_loss: 0.9720 - val_accuracy: 0.8309\n",
      "Epoch 14/55\n",
      "1815/1815 [==============================] - 249s 137ms/step - loss: 0.9459 - accuracy: 0.9081 - val_loss: 0.9564 - val_accuracy: 0.8715\n",
      "Epoch 15/55\n",
      "1815/1815 [==============================] - 252s 139ms/step - loss: 0.9456 - accuracy: 0.9083 - val_loss: 0.9783 - val_accuracy: 0.8125\n",
      "Epoch 16/55\n",
      "1815/1815 [==============================] - 265s 146ms/step - loss: 0.9434 - accuracy: 0.9118 - val_loss: 0.9601 - val_accuracy: 0.8642\n",
      "Epoch 17/55\n",
      "1815/1815 [==============================] - 243s 134ms/step - loss: 0.9430 - accuracy: 0.9117 - val_loss: 0.9574 - val_accuracy: 0.8681\n",
      "Epoch 18/55\n",
      "1815/1815 [==============================] - 237s 130ms/step - loss: 0.9415 - accuracy: 0.9151 - val_loss: 0.9600 - val_accuracy: 0.8563\n",
      "Epoch 19/55\n",
      "1815/1815 [==============================] - 246s 136ms/step - loss: 0.9403 - accuracy: 0.9172 - val_loss: 0.9515 - val_accuracy: 0.8824\n",
      "Epoch 20/55\n",
      "1815/1815 [==============================] - 245s 135ms/step - loss: 0.9399 - accuracy: 0.9177 - val_loss: 0.9632 - val_accuracy: 0.8526\n",
      "Epoch 21/55\n",
      "1815/1815 [==============================] - 247s 136ms/step - loss: 0.9391 - accuracy: 0.9182 - val_loss: 0.9651 - val_accuracy: 0.8448\n",
      "Epoch 22/55\n",
      "1815/1815 [==============================] - 258s 142ms/step - loss: 0.9381 - accuracy: 0.9206 - val_loss: 0.9829 - val_accuracy: 0.7946\n",
      "Epoch 23/55\n",
      "1815/1815 [==============================] - 256s 141ms/step - loss: 0.9376 - accuracy: 0.9221 - val_loss: 0.9555 - val_accuracy: 0.8693\n",
      "Epoch 24/55\n",
      "1815/1815 [==============================] - 257s 141ms/step - loss: 0.9370 - accuracy: 0.9225 - val_loss: 0.9572 - val_accuracy: 0.8624\n",
      "Epoch 25/55\n",
      "1815/1815 [==============================] - 248s 137ms/step - loss: 0.9365 - accuracy: 0.9234 - val_loss: 0.9604 - val_accuracy: 0.8573\n",
      "Epoch 26/55\n",
      "1815/1815 [==============================] - 251s 138ms/step - loss: 0.9353 - accuracy: 0.9262 - val_loss: 0.9538 - val_accuracy: 0.8716\n",
      "Epoch 27/55\n",
      "1815/1815 [==============================] - 250s 138ms/step - loss: 0.9351 - accuracy: 0.9264 - val_loss: 0.9491 - val_accuracy: 0.8850\n",
      "Epoch 28/55\n",
      "1815/1815 [==============================] - 259s 143ms/step - loss: 0.9347 - accuracy: 0.9265 - val_loss: 0.9597 - val_accuracy: 0.8530\n",
      "Epoch 29/55\n",
      "1815/1815 [==============================] - 261s 144ms/step - loss: 0.9345 - accuracy: 0.9273 - val_loss: 0.9527 - val_accuracy: 0.8760\n",
      "Epoch 30/55\n",
      "1815/1815 [==============================] - 258s 142ms/step - loss: 0.9347 - accuracy: 0.9270 - val_loss: 0.9588 - val_accuracy: 0.8572\n",
      "Epoch 31/55\n",
      "1815/1815 [==============================] - 259s 143ms/step - loss: 0.9331 - accuracy: 0.9305 - val_loss: 0.9584 - val_accuracy: 0.8601\n",
      "Epoch 32/55\n",
      "1815/1815 [==============================] - 258s 142ms/step - loss: 0.9338 - accuracy: 0.9289 - val_loss: 0.9632 - val_accuracy: 0.8463\n",
      "Epoch 33/55\n",
      "1815/1815 [==============================] - 258s 142ms/step - loss: 0.9334 - accuracy: 0.9285 - val_loss: 0.9555 - val_accuracy: 0.8651\n",
      "Epoch 34/55\n",
      "1815/1815 [==============================] - 259s 143ms/step - loss: 0.9329 - accuracy: 0.9300 - val_loss: 0.9553 - val_accuracy: 0.8681\n",
      "Epoch 35/55\n",
      "1815/1815 [==============================] - 258s 142ms/step - loss: 0.9326 - accuracy: 0.9302 - val_loss: 0.9525 - val_accuracy: 0.8742\n",
      "Epoch 36/55\n",
      "1815/1815 [==============================] - 258s 142ms/step - loss: 0.9320 - accuracy: 0.9318 - val_loss: 0.9579 - val_accuracy: 0.8602\n",
      "Epoch 37/55\n",
      "1815/1815 [==============================] - 259s 143ms/step - loss: 0.9316 - accuracy: 0.9326 - val_loss: 0.9637 - val_accuracy: 0.8440\n",
      "Epoch 38/55\n",
      "1815/1815 [==============================] - 258s 142ms/step - loss: 0.9312 - accuracy: 0.9337 - val_loss: 0.9695 - val_accuracy: 0.8275\n",
      "Epoch 39/55\n",
      "1815/1815 [==============================] - 251s 138ms/step - loss: 0.9310 - accuracy: 0.9341 - val_loss: 0.9521 - val_accuracy: 0.8732\n",
      "Epoch 40/55\n",
      "1815/1815 [==============================] - 237s 130ms/step - loss: 0.9311 - accuracy: 0.9338 - val_loss: 0.9709 - val_accuracy: 0.8222\n",
      "Epoch 41/55\n",
      "1815/1815 [==============================] - 239s 132ms/step - loss: 0.9307 - accuracy: 0.9350 - val_loss: 0.9552 - val_accuracy: 0.8642\n",
      "Epoch 42/55\n",
      "1815/1815 [==============================] - 235s 129ms/step - loss: 0.9300 - accuracy: 0.9349 - val_loss: 0.9672 - val_accuracy: 0.8331\n",
      "Epoch 43/55\n",
      "1815/1815 [==============================] - 234s 129ms/step - loss: 0.9300 - accuracy: 0.9366 - val_loss: 0.9545 - val_accuracy: 0.8661\n",
      "Epoch 44/55\n",
      "1815/1815 [==============================] - 241s 133ms/step - loss: 0.9300 - accuracy: 0.9357 - val_loss: 0.9519 - val_accuracy: 0.8777\n",
      "Epoch 45/55\n",
      "1815/1815 [==============================] - 263s 145ms/step - loss: 0.9300 - accuracy: 0.9348 - val_loss: 0.9533 - val_accuracy: 0.8718\n",
      "Epoch 46/55\n",
      "1815/1815 [==============================] - 265s 146ms/step - loss: 0.9300 - accuracy: 0.9357 - val_loss: 0.9533 - val_accuracy: 0.8698\n",
      "Epoch 47/55\n",
      "1815/1815 [==============================] - 254s 140ms/step - loss: 0.9300 - accuracy: 0.9348 - val_loss: 0.9999 - val_accuracy: 0.7426\n",
      "Epoch 48/55\n",
      "1815/1815 [==============================] - 258s 142ms/step - loss: 0.9291 - accuracy: 0.9368 - val_loss: 0.9506 - val_accuracy: 0.8765\n",
      "Epoch 49/55\n",
      "1815/1815 [==============================] - 257s 142ms/step - loss: 0.9289 - accuracy: 0.9375 - val_loss: 0.9554 - val_accuracy: 0.8635\n",
      "Epoch 50/55\n",
      "1815/1815 [==============================] - 258s 142ms/step - loss: 0.9277 - accuracy: 0.9411 - val_loss: 0.9442 - val_accuracy: 0.8967\n",
      "Epoch 51/55\n",
      "1815/1815 [==============================] - 260s 143ms/step - loss: 0.9254 - accuracy: 0.9498 - val_loss: 0.9614 - val_accuracy: 0.8478\n",
      "Epoch 52/55\n",
      "1815/1815 [==============================] - 260s 143ms/step - loss: 0.9243 - accuracy: 0.9522 - val_loss: 0.9607 - val_accuracy: 0.8523\n",
      "Epoch 53/55\n",
      "1815/1815 [==============================] - 260s 143ms/step - loss: 0.9236 - accuracy: 0.9531 - val_loss: 0.9479 - val_accuracy: 0.8852\n",
      "Epoch 54/55\n",
      "1815/1815 [==============================] - 260s 143ms/step - loss: 0.9231 - accuracy: 0.9556 - val_loss: 0.9510 - val_accuracy: 0.8779\n",
      "Epoch 55/55\n"
     ]
    },
    {
     "name": "stdout",
     "output_type": "stream",
     "text": [
      "1815/1815 [==============================] - 258s 142ms/step - loss: 0.9231 - accuracy: 0.9549 - val_loss: 0.9472 - val_accuracy: 0.8871\n"
     ]
    }
   ],
   "source": [
    "train_generator = train_datagen.flow_from_directory(\n",
    "        train_path,\n",
    "        target_size=(img_rows, img_cols),\n",
    "        batch_size=batch_size,\n",
    "        class_mode='categorical')\n",
    "\n",
    "validation_generator = validation_datagen.flow_from_directory(\n",
    "        validation_path,\n",
    "        target_size=(img_rows, img_cols),\n",
    "        batch_size=batch_size,\n",
    "        class_mode='categorical') \n",
    "\n",
    "history=model.fit(train_generator,validation_data=validation_generator,\n",
    "                                epochs=epoch,steps_per_epoch=len(train_generator),\n",
    "                                validation_steps=len(validation_generator),verbose=1)"
   ]
  },
  {
   "cell_type": "code",
   "execution_count": 8,
   "id": "2aaa1e96",
   "metadata": {},
   "outputs": [
    {
     "name": "stdout",
     "output_type": "stream",
     "text": [
      "Training Accuracy: 0.95\n",
      "Training Loss: 0.92\n",
      "Validation Accuracy: 0.89\n",
      "Validation Loss: 0.95\n",
      "\n",
      "\n"
     ]
    }
   ],
   "source": [
    "acc = history.history['accuracy']\n",
    "val_acc = history.history['val_accuracy']\n",
    "loss = history.history['loss']\n",
    "val_loss = history.history['val_loss']\n",
    "x = range(1, len(acc) + 1)\n",
    "\n",
    "print(\"Training Accuracy: %.2f\" % acc[-1])\n",
    "print(\"Training Loss: %.2f\" % loss[-1])\n",
    "print(\"Validation Accuracy: %.2f\" % val_acc[-1])\n",
    "print(\"Validation Loss: %.2f\" % val_loss[-1] + '\\n\\n')"
   ]
  },
  {
   "cell_type": "code",
   "execution_count": 9,
   "id": "cea2af67",
   "metadata": {},
   "outputs": [
    {
     "data": {
      "text/plain": [
       "array([[6.4857926e-07, 9.3570907e-06, 6.6054628e-05, ..., 1.3761291e-03,\n",
       "        2.5843201e-02, 1.1877900e-02],\n",
       "       [8.9205059e-07, 6.8837169e-10, 4.6363907e-06, ..., 9.9999130e-01,\n",
       "        2.7166172e-06, 1.8076500e-09],\n",
       "       [9.6147777e-12, 1.9931126e-14, 9.9754088e-15, ..., 1.5696884e-09,\n",
       "        7.3682833e-07, 1.8268393e-06],\n",
       "       ...,\n",
       "       [6.2958927e-09, 1.0437657e-10, 4.2196311e-06, ..., 9.0803674e-08,\n",
       "        1.6487724e-05, 1.9310036e-08],\n",
       "       [3.4105003e-07, 4.5488335e-12, 9.2452324e-10, ..., 9.9995387e-01,\n",
       "        6.8228314e-07, 5.2299715e-10],\n",
       "       [4.0138545e-07, 3.3527451e-14, 2.6459408e-09, ..., 9.9994588e-01,\n",
       "        8.5832180e-06, 1.0379060e-09]], dtype=float32)"
      ]
     },
     "execution_count": 9,
     "metadata": {},
     "output_type": "execute_result"
    }
   ],
   "source": [
    "y_pred=model.predict(validation_generator,train_generator)\n",
    "y_pred"
   ]
  },
  {
   "cell_type": "code",
   "execution_count": 10,
   "id": "64a76de1",
   "metadata": {},
   "outputs": [
    {
     "data": {
      "image/png": "[encoded data removed]",
      "text/plain": [
       "<Figure size 640x480 with 1 Axes>"
      ]
     },
     "metadata": {},
     "output_type": "display_data"
    },
    {
     "data": {
      "image/png": "[encoded data removed]",
      "text/plain": [
       "<Figure size 640x480 with 1 Axes>"
      ]
     },
     "metadata": {},
     "output_type": "display_data"
    }
   ],
   "source": [
    "import matplotlib.pyplot as plt\n",
    "    # Plot the Loss and Accuracy\n",
    "    # Loss\n",
    "plt.plot(history.history['loss'], label='train loss')\n",
    "plt.plot(history.history['val_loss'], label='val loss')\n",
    "plt.legend()\n",
    "plt.show()\n",
    "plt.savefig('LossVal_loss')\n",
    "\n",
    "    # Accuracy\n",
    "plt.plot(history.history['accuracy'], label='train acc')\n",
    "plt.plot(history.history['val_accuracy'], label='val acc')\n",
    "plt.legend()\n",
    "plt.show()\n",
    "plt.savefig('AccVal_acc')"
   ]
  },
  {
   "cell_type": "code",
   "execution_count": 11,
   "id": "f202f59d",
   "metadata": {},
   "outputs": [
    {
     "name": "stdout",
     "output_type": "stream",
     "text": [
      "==============TEST RESULTS============\n",
      "Found 2902 images belonging to 10 classes.\n",
      "182/182 [==============================] - 8s 44ms/step\n",
      "Accuracy  : 0.801171605789111\n",
      "Precision : 0.8496999271286422\n",
      "f1Score : 0.7998973553562608\n",
      "[[198   0   5   0  14  11  79   5   0  28]\n",
      " [  8  45  35   4   6  24  29   1   1   7]\n",
      " [  0   1 263   2   1   7  22   0   0   9]\n",
      " [  0   0   4  96   2  22   5   0   9  14]\n",
      " [  0   0   3   3 224  17  21   0   9   6]\n",
      " [  0   0   0   0   0 258   5   0   1   4]\n",
      " [  0   0   1   0   0  40 178   0   0   5]\n",
      " [  4   0   9   3   0  37  21 776   4   3]\n",
      " [  0   0   0   3   0   8   7   0  39   2]\n",
      " [  0   0   0   0   0   2   4   0   0 248]]\n",
      "              precision    recall  f1-score   support\n",
      "\n",
      "           0       0.94      0.58      0.72       340\n",
      "           1       0.98      0.28      0.44       160\n",
      "           2       0.82      0.86      0.84       305\n",
      "           3       0.86      0.63      0.73       152\n",
      "           4       0.91      0.79      0.85       283\n",
      "           5       0.61      0.96      0.74       268\n",
      "           6       0.48      0.79      0.60       224\n",
      "           7       0.99      0.91      0.95       857\n",
      "           8       0.62      0.66      0.64        59\n",
      "           9       0.76      0.98      0.86       254\n",
      "\n",
      "    accuracy                           0.80      2902\n",
      "   macro avg       0.80      0.74      0.74      2902\n",
      "weighted avg       0.85      0.80      0.80      2902\n",
      "\n"
     ]
    }
   ],
   "source": [
    "print(\"==============TEST RESULTS============\")\n",
    "test_generator = test_datagen.flow_from_directory(\n",
    "        test_path,\n",
    "        target_size=(img_rows, img_cols),\n",
    "        batch_size=batch_size,\n",
    "        class_mode=None,\n",
    "        shuffle=False) \n",
    "\n",
    "predictions = model.predict(test_generator, verbose=1)\n",
    "yPredictions = np.argmax(predictions, axis=1)\n",
    "true_classes = test_generator.classes\n",
    "\n",
    "testAcc,testPrec, testFScore = my_metrics(true_classes, yPredictions)"
   ]
  },
  {
   "cell_type": "code",
   "execution_count": 12,
   "id": "53dc7b24",
   "metadata": {},
   "outputs": [],
   "source": [
    "model.save(MODEL_FILENAME)"
   ]
  },
  {
   "cell_type": "code",
   "execution_count": null,
   "id": "577ad157",
   "metadata": {},
   "outputs": [],
   "source": []
  }
 ],
 "metadata": {
  "kernelspec": {
   "display_name": "Python 3",
   "language": "python",
   "name": "python3"
  },
  "language_info": {
   "codemirror_mode": {
    "name": "ipython",
    "version": 3
   },
   "file_extension": ".py",
   "mimetype": "text/x-python",
   "name": "python",
   "nbconvert_exporter": "python",
   "pygments_lexer": "ipython3",
   "version": "3.9.6"
  }
 },
 "nbformat": 4,
 "nbformat_minor": 5
}
